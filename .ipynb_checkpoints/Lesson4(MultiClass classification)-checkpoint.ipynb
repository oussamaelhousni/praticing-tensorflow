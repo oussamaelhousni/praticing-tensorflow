{
 "cells": [
  {
   "cell_type": "code",
   "execution_count": 2,
   "id": "0ccf4ec6",
   "metadata": {},
   "outputs": [],
   "source": [
    "import urllib\n",
    "import pandas as pd\n",
    "import numpy as np\n",
    "import tensorflow as tf"
   ]
  },
  {
   "cell_type": "code",
   "execution_count": 3,
   "id": "11b0ad35",
   "metadata": {},
   "outputs": [
    {
     "data": {
      "text/plain": [
       "('10_food_classes_all_data.zip', <http.client.HTTPMessage at 0x149c10fd010>)"
      ]
     },
     "execution_count": 3,
     "metadata": {},
     "output_type": "execute_result"
    }
   ],
   "source": [
    "# get the data from the repo\n",
    "urllib.request.urlretrieve(\"https://storage.googleapis.com/ztm_tf_course/food_vision/10_food_classes_all_data.zip\",\"10_food_classes_all_data.zip\")"
   ]
  },
  {
   "cell_type": "code",
   "execution_count": 4,
   "id": "8e177947",
   "metadata": {},
   "outputs": [],
   "source": [
    "# extract the zip\n",
    "import zipfile\n",
    "zip_ref = zipfile.ZipFile(\"./10_food_classes_all_data.zip\")\n",
    "zip_ref.extractall()\n",
    "zip_ref.close()"
   ]
  },
  {
   "cell_type": "code",
   "execution_count": 6,
   "id": "d08951cd",
   "metadata": {},
   "outputs": [
    {
     "name": "stdout",
     "output_type": "stream",
     "text": [
      "There are 2 directories and 0 images in ./10_food_classes_all_data\n",
      "There are 10 directories and 0 images in ./10_food_classes_all_data\\test\n",
      "There are 0 directories and 250 images in ./10_food_classes_all_data\\test\\chicken_curry\n",
      "There are 0 directories and 250 images in ./10_food_classes_all_data\\test\\chicken_wings\n",
      "There are 0 directories and 250 images in ./10_food_classes_all_data\\test\\fried_rice\n",
      "There are 0 directories and 250 images in ./10_food_classes_all_data\\test\\grilled_salmon\n",
      "There are 0 directories and 250 images in ./10_food_classes_all_data\\test\\hamburger\n",
      "There are 0 directories and 250 images in ./10_food_classes_all_data\\test\\ice_cream\n",
      "There are 0 directories and 250 images in ./10_food_classes_all_data\\test\\pizza\n",
      "There are 0 directories and 250 images in ./10_food_classes_all_data\\test\\ramen\n",
      "There are 0 directories and 250 images in ./10_food_classes_all_data\\test\\steak\n",
      "There are 0 directories and 250 images in ./10_food_classes_all_data\\test\\sushi\n",
      "There are 10 directories and 0 images in ./10_food_classes_all_data\\train\n",
      "There are 0 directories and 750 images in ./10_food_classes_all_data\\train\\chicken_curry\n",
      "There are 0 directories and 750 images in ./10_food_classes_all_data\\train\\chicken_wings\n",
      "There are 0 directories and 750 images in ./10_food_classes_all_data\\train\\fried_rice\n",
      "There are 0 directories and 750 images in ./10_food_classes_all_data\\train\\grilled_salmon\n",
      "There are 0 directories and 750 images in ./10_food_classes_all_data\\train\\hamburger\n",
      "There are 0 directories and 750 images in ./10_food_classes_all_data\\train\\ice_cream\n",
      "There are 0 directories and 750 images in ./10_food_classes_all_data\\train\\pizza\n",
      "There are 0 directories and 750 images in ./10_food_classes_all_data\\train\\ramen\n",
      "There are 0 directories and 750 images in ./10_food_classes_all_data\\train\\steak\n",
      "There are 0 directories and 750 images in ./10_food_classes_all_data\\train\\sushi\n"
     ]
    }
   ],
   "source": [
    "# walkthrough the data\n",
    "import os\n",
    "for dirpath,dirnames,filenames in os.walk(\"./10_food_classes_all_data\"):\n",
    "    print(f\"There are {len(dirnames)} directories and {len(filenames)} images in {dirpath}\")"
   ]
  },
  {
   "cell_type": "code",
   "execution_count": 7,
   "id": "9e52b5a3",
   "metadata": {},
   "outputs": [],
   "source": [
    "# Setup train and test data\n",
    "train_dir = \"./10_food_classes_all_data/train/\"\n",
    "test_dir = \"./10_food_classes_all_data/test/\""
   ]
  },
  {
   "cell_type": "code",
   "execution_count": 9,
   "id": "c552d6ec",
   "metadata": {},
   "outputs": [
    {
     "name": "stdout",
     "output_type": "stream",
     "text": [
      "['chicken_curry' 'chicken_wings' 'fried_rice' 'grilled_salmon' 'hamburger'\n",
      " 'ice_cream' 'pizza' 'ramen' 'steak' 'sushi']\n"
     ]
    }
   ],
   "source": [
    "# Get class names\n",
    "import pathlib\n",
    "data_dir = pathlib.Path(train_dir)\n",
    "classnames = np.array(sorted([item.name for item in data_dir.glob(\"*\")]))\n",
    "print(classnames)"
   ]
  },
  {
   "cell_type": "code",
   "execution_count": 12,
   "id": "97fc09fc",
   "metadata": {},
   "outputs": [
    {
     "data": {
      "text/plain": [
       "array(['chicken_curry', 'chicken_wings', 'fried_rice', 'grilled_salmon',\n",
       "       'hamburger', 'ice_cream', 'pizza', 'ramen', 'steak', 'sushi'],\n",
       "      dtype='<U14')"
      ]
     },
     "execution_count": 12,
     "metadata": {},
     "output_type": "execute_result"
    }
   ],
   "source": [
    "# another way to get classnames\n",
    "classnames = np.array(sorted([ name for name in os.listdir(train_dir) if os.path.isdir(os.path.join(train_dir, name)) ]))\n",
    "classnames"
   ]
  },
  {
   "cell_type": "code",
   "execution_count": 8,
   "id": "f98b9899",
   "metadata": {},
   "outputs": [
    {
     "ename": "NameError",
     "evalue": "name 'classnames' is not defined",
     "output_type": "error",
     "traceback": [
      "\u001b[1;31m---------------------------------------------------------------------------\u001b[0m",
      "\u001b[1;31mNameError\u001b[0m                                 Traceback (most recent call last)",
      "Cell \u001b[1;32mIn[8], line 3\u001b[0m\n\u001b[0;32m      1\u001b[0m \u001b[38;5;66;03m# Visualize the data\u001b[39;00m\n\u001b[0;32m      2\u001b[0m \u001b[38;5;28;01mimport\u001b[39;00m \u001b[38;5;21;01mrandom\u001b[39;00m\n\u001b[1;32m----> 3\u001b[0m \u001b[38;5;28mprint\u001b[39m(\u001b[43mclassnames\u001b[49m)\n",
      "\u001b[1;31mNameError\u001b[0m: name 'classnames' is not defined"
     ]
    }
   ],
   "source": [
    "# Visualize the data\n",
    "import random\n",
    "print(classnames)"
   ]
  },
  {
   "cell_type": "code",
   "execution_count": null,
   "id": "e00e85d1",
   "metadata": {},
   "outputs": [],
   "source": []
  }
 ],
 "metadata": {
  "kernelspec": {
   "display_name": "Python 3 (ipykernel)",
   "language": "python",
   "name": "python3"
  },
  "language_info": {
   "codemirror_mode": {
    "name": "ipython",
    "version": 3
   },
   "file_extension": ".py",
   "mimetype": "text/x-python",
   "name": "python",
   "nbconvert_exporter": "python",
   "pygments_lexer": "ipython3",
   "version": "3.11.2"
  }
 },
 "nbformat": 4,
 "nbformat_minor": 5
}
