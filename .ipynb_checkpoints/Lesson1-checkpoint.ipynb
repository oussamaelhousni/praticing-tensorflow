{
 "cells": [
  {
   "cell_type": "markdown",
   "id": "4f40426a",
   "metadata": {},
   "source": [
    "## Introduction To Tensorflow"
   ]
  },
  {
   "cell_type": "code",
   "execution_count": 1,
   "id": "97e8d588",
   "metadata": {},
   "outputs": [
    {
     "name": "stdout",
     "output_type": "stream",
     "text": [
      "2.12.0-rc0\n"
     ]
    }
   ],
   "source": [
    "import tensorflow as tf\n",
    "print(tf.__version__)"
   ]
  },
  {
   "cell_type": "markdown",
   "id": "87971264",
   "metadata": {},
   "source": [
    "#### 1 - create tensors with tf.constant()"
   ]
  },
  {
   "cell_type": "code",
   "execution_count": 2,
   "id": "6d1d0732",
   "metadata": {},
   "outputs": [
    {
     "data": {
      "text/plain": [
       "<tf.Tensor: shape=(), dtype=int32, numpy=7>"
      ]
     },
     "execution_count": 2,
     "metadata": {},
     "output_type": "execute_result"
    }
   ],
   "source": [
    "# create tensors with tf.constant()\n",
    "scalar = tf.constant(7)\n",
    "scalar"
   ]
  },
  {
   "cell_type": "code",
   "execution_count": 3,
   "id": "50035d6e",
   "metadata": {},
   "outputs": [
    {
     "data": {
      "text/plain": [
       "0"
      ]
     },
     "execution_count": 3,
     "metadata": {},
     "output_type": "execute_result"
    }
   ],
   "source": [
    "# check the number of dimensaion of a tensor\n",
    "scalar.ndim"
   ]
  },
  {
   "cell_type": "code",
   "execution_count": 4,
   "id": "e90db2e3",
   "metadata": {},
   "outputs": [
    {
     "data": {
      "text/plain": [
       "<tf.Tensor: shape=(2,), dtype=int32, numpy=array([10, 10])>"
      ]
     },
     "execution_count": 4,
     "metadata": {},
     "output_type": "execute_result"
    }
   ],
   "source": [
    "# create a vector\n",
    "vector = tf.constant([10,10])\n",
    "vector"
   ]
  },
  {
   "cell_type": "code",
   "execution_count": 5,
   "id": "0027394f",
   "metadata": {},
   "outputs": [
    {
     "data": {
      "text/plain": [
       "1"
      ]
     },
     "execution_count": 5,
     "metadata": {},
     "output_type": "execute_result"
    }
   ],
   "source": [
    "#check the dimension of a vector\n",
    "vector.ndim"
   ]
  },
  {
   "cell_type": "code",
   "execution_count": 6,
   "id": "e945dfb8",
   "metadata": {},
   "outputs": [],
   "source": [
    "# create a matrix\n",
    "matrix = tf.constant([\n",
    "    [10,7],\n",
    "    [7,10]\n",
    "])"
   ]
  },
  {
   "cell_type": "code",
   "execution_count": 7,
   "id": "2a4d517c",
   "metadata": {},
   "outputs": [
    {
     "data": {
      "text/plain": [
       "2"
      ]
     },
     "execution_count": 7,
     "metadata": {},
     "output_type": "execute_result"
    }
   ],
   "source": [
    "# check the dimension of a matrix\n",
    "matrix.ndim"
   ]
  },
  {
   "cell_type": "code",
   "execution_count": 10,
   "id": "3044f673",
   "metadata": {},
   "outputs": [
    {
     "data": {
      "text/plain": [
       "<tf.Tensor: shape=(2, 2), dtype=float16, numpy=\n",
       "array([[10.,  7.],\n",
       "       [ 8.,  2.]], dtype=float16)>"
      ]
     },
     "execution_count": 10,
     "metadata": {},
     "output_type": "execute_result"
    }
   ],
   "source": [
    "# create another matrix \n",
    "another_matrix = tf.constant([\n",
    "    [10.,7.],\n",
    "    [8.,2.]\n",
    "],dtype=tf.float16)\n",
    "another_matrix"
   ]
  },
  {
   "cell_type": "markdown",
   "id": "ca5d5319",
   "metadata": {},
   "source": [
    "#### 2 - create tensors with tf.Variable()"
   ]
  },
  {
   "cell_type": "code",
   "execution_count": 11,
   "id": "10ed5375",
   "metadata": {},
   "outputs": [
    {
     "data": {
      "text/plain": [
       "<tf.Variable 'Variable:0' shape=(2, 3) dtype=int32, numpy=\n",
       "array([[1, 2, 3],\n",
       "       [4, 5, 6]])>"
      ]
     },
     "execution_count": 11,
     "metadata": {},
     "output_type": "execute_result"
    }
   ],
   "source": [
    "# create changeable tensor\n",
    "changeable_tensor = tf.Variable([[1,2,3],\n",
    "                                [4,5,6]])\n",
    "changeable_tensor"
   ]
  },
  {
   "cell_type": "code",
   "execution_count": 12,
   "id": "6811057a",
   "metadata": {},
   "outputs": [
    {
     "data": {
      "text/plain": [
       "<tf.Variable 'UnreadVariable' shape=(2, 3) dtype=int32, numpy=\n",
       "array([[5, 2, 3],\n",
       "       [4, 5, 6]])>"
      ]
     },
     "execution_count": 12,
     "metadata": {},
     "output_type": "execute_result"
    }
   ],
   "source": [
    "# change a value in the tensor NOTE: do not use assingment\n",
    "changeable_tensor[0,0].assign(5) "
   ]
  },
  {
   "cell_type": "code",
   "execution_count": 13,
   "id": "c8609699",
   "metadata": {},
   "outputs": [
    {
     "data": {
      "text/plain": [
       "<tf.Variable 'Variable:0' shape=(2, 3) dtype=int32, numpy=\n",
       "array([[5, 2, 3],\n",
       "       [4, 5, 6]])>"
      ]
     },
     "execution_count": 13,
     "metadata": {},
     "output_type": "execute_result"
    }
   ],
   "source": [
    "changeable_tensor"
   ]
  },
  {
   "cell_type": "markdown",
   "id": "eba72045",
   "metadata": {},
   "source": [
    "#### 3 - create random tensors"
   ]
  },
  {
   "cell_type": "code",
   "execution_count": 27,
   "id": "1efecda7",
   "metadata": {},
   "outputs": [
    {
     "data": {
      "text/plain": [
       "<tf.Tensor: shape=(3, 3), dtype=float32, numpy=\n",
       "array([[ 0.65648675, -0.4130517 ,  0.33997506],\n",
       "       [-1.0056272 ,  0.70266235, -1.4008642 ],\n",
       "       [-0.89780754, -0.34856176, -0.95890623]], dtype=float32)>"
      ]
     },
     "execution_count": 27,
     "metadata": {},
     "output_type": "execute_result"
    }
   ],
   "source": [
    "# create random tensor\n",
    "#tf.random.set_seed(42)\n",
    "random = tf.random.Generator.from_seed(42) # set seed for reproducibility\n",
    "##vrandom_tensor = random.normal([3,3],0,1)\n",
    "random_tensor = tf.random.normal((3,3),0,1)\n",
    "random_tensor  # from normal distribution"
   ]
  },
  {
   "cell_type": "markdown",
   "id": "ae0fbf16",
   "metadata": {},
   "source": [
    "#### 4 - shuffling the order tensors"
   ]
  },
  {
   "cell_type": "code",
   "execution_count": 31,
   "id": "d5221095",
   "metadata": {},
   "outputs": [
    {
     "data": {
      "text/plain": [
       "<tf.Tensor: shape=(2, 3), dtype=int32, numpy=\n",
       "array([[4, 5, 6],\n",
       "       [1, 2, 3]])>"
      ]
     },
     "execution_count": 31,
     "metadata": {},
     "output_type": "execute_result"
    }
   ],
   "source": [
    "# shuffle a tensor \n",
    "unshuffled_tesnor = tf.constant([\n",
    "    [1,2,3],\n",
    "    [4,5,6]\n",
    "])\n",
    "\n",
    "tf.random.shuffle(unshuffled_tesnor)"
   ]
  },
  {
   "cell_type": "markdown",
   "id": "36fb6989",
   "metadata": {},
   "source": [
    "#### 5 - other ways to make tensors"
   ]
  },
  {
   "cell_type": "code",
   "execution_count": 33,
   "id": "f8ca67d7",
   "metadata": {},
   "outputs": [
    {
     "data": {
      "text/plain": [
       "<tf.Tensor: shape=(3, 3), dtype=int32, numpy=\n",
       "array([[1, 1, 1],\n",
       "       [1, 1, 1],\n",
       "       [1, 1, 1]])>"
      ]
     },
     "execution_count": 33,
     "metadata": {},
     "output_type": "execute_result"
    }
   ],
   "source": [
    "ones_tensor = tf.ones([3,3],tf.int32)\n",
    "ones_tensor"
   ]
  },
  {
   "cell_type": "code",
   "execution_count": 34,
   "id": "c56a3088",
   "metadata": {},
   "outputs": [
    {
     "data": {
      "text/plain": [
       "<tf.Tensor: shape=(3, 3), dtype=float32, numpy=\n",
       "array([[0., 0., 0.],\n",
       "       [0., 0., 0.],\n",
       "       [0., 0., 0.]], dtype=float32)>"
      ]
     },
     "execution_count": 34,
     "metadata": {},
     "output_type": "execute_result"
    }
   ],
   "source": [
    "tf.zeros((3,3,))"
   ]
  },
  {
   "cell_type": "code",
   "execution_count": 39,
   "id": "e7940f47",
   "metadata": {},
   "outputs": [
    {
     "data": {
      "text/plain": [
       "<tf.Tensor: shape=(8, 3), dtype=int32, numpy=\n",
       "array([[ 1,  2,  3],\n",
       "       [ 4,  5,  6],\n",
       "       [ 7,  8,  9],\n",
       "       [10, 11, 12],\n",
       "       [13, 14, 15],\n",
       "       [16, 17, 18],\n",
       "       [19, 20, 21],\n",
       "       [22, 23, 24]])>"
      ]
     },
     "execution_count": 39,
     "metadata": {},
     "output_type": "execute_result"
    }
   ],
   "source": [
    "# creating tensors from numpy array\n",
    "import numpy as np\n",
    "np_array = np.arange(1,25).reshape(8,-1)\n",
    "np_array\n",
    "tensor_from_numpy = tf.constant(np_array)\n",
    "tensor_from_numpy"
   ]
  },
  {
   "cell_type": "markdown",
   "id": "89bf51ba",
   "metadata": {},
   "source": [
    "#### 6 - getting information from tensors"
   ]
  },
  {
   "cell_type": "code",
   "execution_count": 40,
   "id": "517c3a19",
   "metadata": {},
   "outputs": [],
   "source": [
    "tensor = tf.random.normal((5,5))"
   ]
  },
  {
   "cell_type": "code",
   "execution_count": 41,
   "id": "205fd181",
   "metadata": {},
   "outputs": [
    {
     "data": {
      "text/plain": [
       "TensorShape([5, 5])"
      ]
     },
     "execution_count": 41,
     "metadata": {},
     "output_type": "execute_result"
    }
   ],
   "source": [
    "# shape of the tensor\n",
    "tensor.shape"
   ]
  },
  {
   "cell_type": "code",
   "execution_count": 42,
   "id": "e989b868",
   "metadata": {},
   "outputs": [
    {
     "data": {
      "text/plain": [
       "2"
      ]
     },
     "execution_count": 42,
     "metadata": {},
     "output_type": "execute_result"
    }
   ],
   "source": [
    "# rank (nbr of dims)\n",
    "tensor.ndim"
   ]
  },
  {
   "cell_type": "code",
   "execution_count": 48,
   "id": "910b0f41",
   "metadata": {},
   "outputs": [
    {
     "data": {
      "text/plain": [
       "<tf.Tensor: shape=(), dtype=bool, numpy=True>"
      ]
     },
     "execution_count": 48,
     "metadata": {},
     "output_type": "execute_result"
    }
   ],
   "source": [
    "# size of a tensor\n",
    "tf.size(tensor) == 25"
   ]
  },
  {
   "cell_type": "code",
   "execution_count": null,
   "id": "488628b7",
   "metadata": {},
   "outputs": [],
   "source": []
  },
  {
   "cell_type": "code",
   "execution_count": null,
   "id": "8d02ae43",
   "metadata": {},
   "outputs": [],
   "source": []
  }
 ],
 "metadata": {
  "kernelspec": {
   "display_name": "Python 3 (ipykernel)",
   "language": "python",
   "name": "python3"
  },
  "language_info": {
   "codemirror_mode": {
    "name": "ipython",
    "version": 3
   },
   "file_extension": ".py",
   "mimetype": "text/x-python",
   "name": "python",
   "nbconvert_exporter": "python",
   "pygments_lexer": "ipython3",
   "version": "3.11.2"
  }
 },
 "nbformat": 4,
 "nbformat_minor": 5
}
