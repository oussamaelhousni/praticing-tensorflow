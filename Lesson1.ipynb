{
 "cells": [
  {
   "cell_type": "markdown",
   "id": "854514f1",
   "metadata": {},
   "source": [
    "## Introduction To Tensorflow"
   ]
  },
  {
   "cell_type": "code",
   "execution_count": 1,
   "id": "f6fcb73c",
   "metadata": {},
   "outputs": [
    {
     "name": "stdout",
     "output_type": "stream",
     "text": [
      "2.12.0-rc0\n"
     ]
    }
   ],
   "source": [
    "import tensorflow as tf\n",
    "print(tf.__version__)"
   ]
  },
  {
   "cell_type": "markdown",
   "id": "e8d3b147",
   "metadata": {},
   "source": [
    "#### 1 - create tensors with tf.constant()"
   ]
  },
  {
   "cell_type": "code",
   "execution_count": 2,
   "id": "b91f50a9",
   "metadata": {},
   "outputs": [
    {
     "data": {
      "text/plain": [
       "<tf.Tensor: shape=(), dtype=int32, numpy=7>"
      ]
     },
     "execution_count": 2,
     "metadata": {},
     "output_type": "execute_result"
    }
   ],
   "source": [
    "# create tensors with tf.constant()\n",
    "scalar = tf.constant(7)\n",
    "scalar"
   ]
  },
  {
   "cell_type": "code",
   "execution_count": 3,
   "id": "a7d3506a",
   "metadata": {},
   "outputs": [
    {
     "data": {
      "text/plain": [
       "0"
      ]
     },
     "execution_count": 3,
     "metadata": {},
     "output_type": "execute_result"
    }
   ],
   "source": [
    "# check the number of dimensaion of a tensor\n",
    "scalar.ndim"
   ]
  },
  {
   "cell_type": "code",
   "execution_count": 4,
   "id": "f3a43024",
   "metadata": {},
   "outputs": [
    {
     "data": {
      "text/plain": [
       "<tf.Tensor: shape=(2,), dtype=int32, numpy=array([10, 10])>"
      ]
     },
     "execution_count": 4,
     "metadata": {},
     "output_type": "execute_result"
    }
   ],
   "source": [
    "# create a vector\n",
    "vector = tf.constant([10,10])\n",
    "vector"
   ]
  },
  {
   "cell_type": "code",
   "execution_count": 5,
   "id": "1ec76f1c",
   "metadata": {},
   "outputs": [
    {
     "data": {
      "text/plain": [
       "1"
      ]
     },
     "execution_count": 5,
     "metadata": {},
     "output_type": "execute_result"
    }
   ],
   "source": [
    "#check the dimension of a vector\n",
    "vector.ndim"
   ]
  },
  {
   "cell_type": "code",
   "execution_count": 6,
   "id": "ce2047ee",
   "metadata": {},
   "outputs": [],
   "source": [
    "# create a matrix\n",
    "matrix = tf.constant([\n",
    "    [10,7],\n",
    "    [7,10]\n",
    "])"
   ]
  },
  {
   "cell_type": "code",
   "execution_count": 7,
   "id": "2affa50c",
   "metadata": {},
   "outputs": [
    {
     "data": {
      "text/plain": [
       "2"
      ]
     },
     "execution_count": 7,
     "metadata": {},
     "output_type": "execute_result"
    }
   ],
   "source": [
    "# check the dimension of a matrix\n",
    "matrix.ndim"
   ]
  },
  {
   "cell_type": "code",
   "execution_count": 10,
   "id": "9d52c4d5",
   "metadata": {},
   "outputs": [
    {
     "data": {
      "text/plain": [
       "<tf.Tensor: shape=(2, 2), dtype=float16, numpy=\n",
       "array([[10.,  7.],\n",
       "       [ 8.,  2.]], dtype=float16)>"
      ]
     },
     "execution_count": 10,
     "metadata": {},
     "output_type": "execute_result"
    }
   ],
   "source": [
    "# create another matrix \n",
    "another_matrix = tf.constant([\n",
    "    [10.,7.],\n",
    "    [8.,2.]\n",
    "],dtype=tf.float16)\n",
    "another_matrix"
   ]
  },
  {
   "cell_type": "markdown",
   "id": "cf1b6ddd",
   "metadata": {},
   "source": [
    "#### 2 - create tensors with tf.Variable()"
   ]
  },
  {
   "cell_type": "code",
   "execution_count": 11,
   "id": "923df230",
   "metadata": {},
   "outputs": [
    {
     "data": {
      "text/plain": [
       "<tf.Variable 'Variable:0' shape=(2, 3) dtype=int32, numpy=\n",
       "array([[1, 2, 3],\n",
       "       [4, 5, 6]])>"
      ]
     },
     "execution_count": 11,
     "metadata": {},
     "output_type": "execute_result"
    }
   ],
   "source": [
    "# create changeable tensor\n",
    "changeable_tensor = tf.Variable([[1,2,3],\n",
    "                                [4,5,6]])\n",
    "changeable_tensor"
   ]
  },
  {
   "cell_type": "code",
   "execution_count": 12,
   "id": "baf800ab",
   "metadata": {},
   "outputs": [
    {
     "data": {
      "text/plain": [
       "<tf.Variable 'UnreadVariable' shape=(2, 3) dtype=int32, numpy=\n",
       "array([[5, 2, 3],\n",
       "       [4, 5, 6]])>"
      ]
     },
     "execution_count": 12,
     "metadata": {},
     "output_type": "execute_result"
    }
   ],
   "source": [
    "# change a value in the tensor NOTE: do not use assingment\n",
    "changeable_tensor[0,0].assign(5) "
   ]
  },
  {
   "cell_type": "code",
   "execution_count": 13,
   "id": "47748191",
   "metadata": {},
   "outputs": [
    {
     "data": {
      "text/plain": [
       "<tf.Variable 'Variable:0' shape=(2, 3) dtype=int32, numpy=\n",
       "array([[5, 2, 3],\n",
       "       [4, 5, 6]])>"
      ]
     },
     "execution_count": 13,
     "metadata": {},
     "output_type": "execute_result"
    }
   ],
   "source": [
    "changeable_tensor"
   ]
  },
  {
   "cell_type": "markdown",
   "id": "c59eff95",
   "metadata": {},
   "source": [
    "#### 3 - create random tensors"
   ]
  },
  {
   "cell_type": "code",
   "execution_count": 27,
   "id": "0d883b4f",
   "metadata": {},
   "outputs": [
    {
     "data": {
      "text/plain": [
       "<tf.Tensor: shape=(3, 3), dtype=float32, numpy=\n",
       "array([[ 0.65648675, -0.4130517 ,  0.33997506],\n",
       "       [-1.0056272 ,  0.70266235, -1.4008642 ],\n",
       "       [-0.89780754, -0.34856176, -0.95890623]], dtype=float32)>"
      ]
     },
     "execution_count": 27,
     "metadata": {},
     "output_type": "execute_result"
    }
   ],
   "source": [
    "# create random tensor\n",
    "#tf.random.set_seed(42)\n",
    "random = tf.random.Generator.from_seed(42) # set seed for reproducibility\n",
    "##vrandom_tensor = random.normal([3,3],0,1)\n",
    "random_tensor = tf.random.normal((3,3),0,1)\n",
    "random_tensor  # from normal distribution"
   ]
  },
  {
   "cell_type": "markdown",
   "id": "5f66c32f",
   "metadata": {},
   "source": [
    "#### 4 - shuffling the order tensors"
   ]
  },
  {
   "cell_type": "code",
   "execution_count": 31,
   "id": "76d63f03",
   "metadata": {},
   "outputs": [
    {
     "data": {
      "text/plain": [
       "<tf.Tensor: shape=(2, 3), dtype=int32, numpy=\n",
       "array([[4, 5, 6],\n",
       "       [1, 2, 3]])>"
      ]
     },
     "execution_count": 31,
     "metadata": {},
     "output_type": "execute_result"
    }
   ],
   "source": [
    "# shuffle a tensor \n",
    "unshuffled_tesnor = tf.constant([\n",
    "    [1,2,3],\n",
    "    [4,5,6]\n",
    "])\n",
    "\n",
    "tf.random.shuffle(unshuffled_tesnor)"
   ]
  },
  {
   "cell_type": "markdown",
   "id": "9e0086c6",
   "metadata": {},
   "source": [
    "#### 5 - other ways to make tensors"
   ]
  },
  {
   "cell_type": "code",
   "execution_count": 33,
   "id": "b7d1df6c",
   "metadata": {},
   "outputs": [
    {
     "data": {
      "text/plain": [
       "<tf.Tensor: shape=(3, 3), dtype=int32, numpy=\n",
       "array([[1, 1, 1],\n",
       "       [1, 1, 1],\n",
       "       [1, 1, 1]])>"
      ]
     },
     "execution_count": 33,
     "metadata": {},
     "output_type": "execute_result"
    }
   ],
   "source": [
    "ones_tensor = tf.ones([3,3],tf.int32)\n",
    "ones_tensor"
   ]
  },
  {
   "cell_type": "code",
   "execution_count": 34,
   "id": "048dde7b",
   "metadata": {},
   "outputs": [
    {
     "data": {
      "text/plain": [
       "<tf.Tensor: shape=(3, 3), dtype=float32, numpy=\n",
       "array([[0., 0., 0.],\n",
       "       [0., 0., 0.],\n",
       "       [0., 0., 0.]], dtype=float32)>"
      ]
     },
     "execution_count": 34,
     "metadata": {},
     "output_type": "execute_result"
    }
   ],
   "source": [
    "tf.zeros((3,3,))"
   ]
  },
  {
   "cell_type": "code",
   "execution_count": 39,
   "id": "5903c4ad",
   "metadata": {},
   "outputs": [
    {
     "data": {
      "text/plain": [
       "<tf.Tensor: shape=(8, 3), dtype=int32, numpy=\n",
       "array([[ 1,  2,  3],\n",
       "       [ 4,  5,  6],\n",
       "       [ 7,  8,  9],\n",
       "       [10, 11, 12],\n",
       "       [13, 14, 15],\n",
       "       [16, 17, 18],\n",
       "       [19, 20, 21],\n",
       "       [22, 23, 24]])>"
      ]
     },
     "execution_count": 39,
     "metadata": {},
     "output_type": "execute_result"
    }
   ],
   "source": [
    "# creating tensors from numpy array\n",
    "import numpy as np\n",
    "np_array = np.arange(1,25).reshape(8,-1)\n",
    "np_array\n",
    "tensor_from_numpy = tf.constant(np_array)\n",
    "tensor_from_numpy"
   ]
  },
  {
   "cell_type": "markdown",
   "id": "0e276467",
   "metadata": {},
   "source": [
    "#### 6 - getting information from tensors"
   ]
  },
  {
   "cell_type": "code",
   "execution_count": 40,
   "id": "8328a428",
   "metadata": {},
   "outputs": [],
   "source": [
    "tensor = tf.random.normal((5,5))"
   ]
  },
  {
   "cell_type": "code",
   "execution_count": 41,
   "id": "987973ae",
   "metadata": {},
   "outputs": [
    {
     "data": {
      "text/plain": [
       "TensorShape([5, 5])"
      ]
     },
     "execution_count": 41,
     "metadata": {},
     "output_type": "execute_result"
    }
   ],
   "source": [
    "# shape of the tensor\n",
    "tensor.shape"
   ]
  },
  {
   "cell_type": "code",
   "execution_count": 42,
   "id": "c6c8627c",
   "metadata": {},
   "outputs": [
    {
     "data": {
      "text/plain": [
       "2"
      ]
     },
     "execution_count": 42,
     "metadata": {},
     "output_type": "execute_result"
    }
   ],
   "source": [
    "# rank (nbr of dims)\n",
    "tensor.ndim<"
   ]
  },
  {
   "cell_type": "code",
   "execution_count": 48,
   "id": "6b7d6bf6",
   "metadata": {},
   "outputs": [
    {
     "data": {
      "text/plain": [
       "<tf.Tensor: shape=(), dtype=bool, numpy=True>"
      ]
     },
     "execution_count": 48,
     "metadata": {},
     "output_type": "execute_result"
    }
   ],
   "source": [
    "# size of a tensor\n",
    "tf.size(tensor) == 25"
   ]
  },
  {
   "cell_type": "markdown",
   "id": "4feb613a",
   "metadata": {},
   "source": [
    "#### 7 - manipulating tensors"
   ]
  },
  {
   "cell_type": "code",
   "execution_count": 54,
   "id": "6baccad4",
   "metadata": {},
   "outputs": [],
   "source": [
    "tensor_1 = tf.constant([\n",
    "    [1,2],\n",
    "    [3,4]\n",
    "])\n",
    "tensor_2 = tf.constant([\n",
    "    [5,6],\n",
    "    [7,8]\n",
    "])"
   ]
  },
  {
   "cell_type": "code",
   "execution_count": 55,
   "id": "df8ea497",
   "metadata": {},
   "outputs": [
    {
     "data": {
      "text/plain": [
       "<tf.Tensor: shape=(2, 2), dtype=int32, numpy=\n",
       "array([[ 6,  8],\n",
       "       [10, 12]])>"
      ]
     },
     "execution_count": 55,
     "metadata": {},
     "output_type": "execute_result"
    }
   ],
   "source": [
    "tensor_1 + tensor_2"
   ]
  },
  {
   "cell_type": "code",
   "execution_count": 56,
   "id": "4c010799",
   "metadata": {},
   "outputs": [
    {
     "data": {
      "text/plain": [
       "<tf.Tensor: shape=(2, 2), dtype=int32, numpy=\n",
       "array([[ 5, 12],\n",
       "       [21, 32]])>"
      ]
     },
     "execution_count": 56,
     "metadata": {},
     "output_type": "execute_result"
    }
   ],
   "source": [
    "tensor_1 * tensor_2"
   ]
  },
  {
   "cell_type": "code",
   "execution_count": 57,
   "id": "8182a388",
   "metadata": {},
   "outputs": [
    {
     "data": {
      "text/plain": [
       "<tf.Tensor: shape=(2, 2), dtype=float64, numpy=\n",
       "array([[0.2       , 0.33333333],\n",
       "       [0.42857143, 0.5       ]])>"
      ]
     },
     "execution_count": 57,
     "metadata": {},
     "output_type": "execute_result"
    }
   ],
   "source": [
    "tensor_1 / tensor_2"
   ]
  },
  {
   "cell_type": "code",
   "execution_count": 58,
   "id": "eda3737b",
   "metadata": {},
   "outputs": [
    {
     "data": {
      "text/plain": [
       "<tf.Tensor: shape=(2, 2), dtype=int32, numpy=\n",
       "array([[19, 22],\n",
       "       [43, 50]])>"
      ]
     },
     "execution_count": 58,
     "metadata": {},
     "output_type": "execute_result"
    }
   ],
   "source": [
    "tensor_1 @ tensor_2"
   ]
  },
  {
   "cell_type": "code",
   "execution_count": 62,
   "id": "62b79c0e",
   "metadata": {},
   "outputs": [
    {
     "data": {
      "text/plain": [
       "<tf.Tensor: shape=(2, 2), dtype=int32, numpy=\n",
       "array([[1, 3],\n",
       "       [2, 4]])>"
      ]
     },
     "execution_count": 62,
     "metadata": {},
     "output_type": "execute_result"
    }
   ],
   "source": [
    "tf.transpose(tensor_1)"
   ]
  },
  {
   "cell_type": "markdown",
   "id": "d761176c",
   "metadata": {},
   "source": [
    "#### 8 - changing  data type of a tensor"
   ]
  },
  {
   "cell_type": "code",
   "execution_count": 63,
   "id": "722dd9ec",
   "metadata": {},
   "outputs": [
    {
     "data": {
      "text/plain": [
       "tf.float32"
      ]
     },
     "execution_count": 63,
     "metadata": {},
     "output_type": "execute_result"
    }
   ],
   "source": [
    "tensor = tf.constant([.5,.8])\n",
    "tensor.dtype"
   ]
  },
  {
   "cell_type": "code",
   "execution_count": 65,
   "id": "3ec386cf",
   "metadata": {},
   "outputs": [
    {
     "data": {
      "text/plain": [
       "tf.float16"
      ]
     },
     "execution_count": 65,
     "metadata": {},
     "output_type": "execute_result"
    }
   ],
   "source": [
    "# change the precision from float32 to float16\n",
    "new_tensor = tf.cast(tensor,tf.float16)\n",
    "new_tensor.dtype"
   ]
  },
  {
   "cell_type": "markdown",
   "id": "efbb22dd",
   "metadata": {},
   "source": [
    "#### 9 - aggregating tensors"
   ]
  },
  {
   "cell_type": "code",
   "execution_count": 86,
   "id": "967c91aa",
   "metadata": {},
   "outputs": [
    {
     "data": {
      "text/plain": [
       "<tf.Tensor: shape=(10, 6), dtype=float32, numpy=\n",
       "array([[24., 19., 14., 38., 41., 25.],\n",
       "       [41., 48., 34., 31., 39., 33.],\n",
       "       [ 4., 48., 14., 32., 35., 45.],\n",
       "       [46.,  2.,  6.,  7., 15., 34.],\n",
       "       [35., 48., 17., 16., 44., 44.],\n",
       "       [20., 47., 33., 47., 49., 38.],\n",
       "       [41.,  3., 14., 39., 28.,  9.],\n",
       "       [ 6., 15., 23., 48.,  1., 29.],\n",
       "       [13., 16.,  0., 28., 17.,  0.],\n",
       "       [45., 36., 45., 34., 18., 32.]], dtype=float32)>"
      ]
     },
     "execution_count": 86,
     "metadata": {},
     "output_type": "execute_result"
    }
   ],
   "source": [
    "tensor = tf.constant(np.random.randint(0,50,size=(10,6)),dtype=tf.float32)\n",
    "tensor"
   ]
  },
  {
   "cell_type": "code",
   "execution_count": 87,
   "id": "88be8f22",
   "metadata": {},
   "outputs": [
    {
     "data": {
      "text/plain": [
       "<tf.Tensor: shape=(6,), dtype=float32, numpy=array([46., 48., 45., 48., 49., 45.], dtype=float32)>"
      ]
     },
     "execution_count": 87,
     "metadata": {},
     "output_type": "execute_result"
    }
   ],
   "source": [
    "# max in rows\n",
    "tf.reduce_max(tensor,axis=0)"
   ]
  },
  {
   "cell_type": "code",
   "execution_count": 88,
   "id": "ef572476",
   "metadata": {},
   "outputs": [
    {
     "data": {
      "text/plain": [
       "<tf.Tensor: shape=(), dtype=float32, numpy=49.0>"
      ]
     },
     "execution_count": 88,
     "metadata": {},
     "output_type": "execute_result"
    }
   ],
   "source": [
    "# max of the whole matrix\n",
    "tf.reduce_max(tensor)"
   ]
  },
  {
   "cell_type": "code",
   "execution_count": 89,
   "id": "8850cbf8",
   "metadata": {},
   "outputs": [
    {
     "data": {
      "text/plain": [
       "<tf.Tensor: shape=(), dtype=float32, numpy=27.55>"
      ]
     },
     "execution_count": 89,
     "metadata": {},
     "output_type": "execute_result"
    }
   ],
   "source": [
    "# mean\n",
    "tf.reduce_mean(tensor)"
   ]
  },
  {
   "cell_type": "code",
   "execution_count": 90,
   "id": "c6313f73",
   "metadata": {},
   "outputs": [
    {
     "data": {
      "text/plain": [
       "<tf.Tensor: shape=(), dtype=float32, numpy=228.08083>"
      ]
     },
     "execution_count": 90,
     "metadata": {},
     "output_type": "execute_result"
    }
   ],
   "source": [
    "# variance\n",
    "tf.math.reduce_variance(tensor)"
   ]
  },
  {
   "cell_type": "code",
   "execution_count": 91,
   "id": "7e4b08ff",
   "metadata": {},
   "outputs": [
    {
     "data": {
      "text/plain": [
       "<tf.Tensor: shape=(), dtype=float32, numpy=15.102345>"
      ]
     },
     "execution_count": 91,
     "metadata": {},
     "output_type": "execute_result"
    }
   ],
   "source": [
    "# standard deviation\n",
    "tf.math.reduce_std(tensor)"
   ]
  },
  {
   "cell_type": "code",
   "execution_count": 95,
   "id": "50ab8c9b",
   "metadata": {},
   "outputs": [
    {
     "data": {
      "text/plain": [
       "<tf.Tensor: shape=(6,), dtype=int64, numpy=array([3, 1, 9, 7, 5, 2], dtype=int64)>"
      ]
     },
     "execution_count": 95,
     "metadata": {},
     "output_type": "execute_result"
    }
   ],
   "source": [
    "# find the index of the max\n",
    "tf.argmax(tensor)"
   ]
  },
  {
   "cell_type": "code",
   "execution_count": 96,
   "id": "30c2af6b",
   "metadata": {},
   "outputs": [
    {
     "data": {
      "text/plain": [
       "<tf.Tensor: shape=(6,), dtype=int64, numpy=array([2, 3, 8, 3, 7, 8], dtype=int64)>"
      ]
     },
     "execution_count": 96,
     "metadata": {},
     "output_type": "execute_result"
    }
   ],
   "source": [
    "# find the index of the min\n",
    "tf.argmin(tensor)"
   ]
  },
  {
   "cell_type": "code",
   "execution_count": 108,
   "id": "c72582e9",
   "metadata": {},
   "outputs": [],
   "source": [
    "# one hot encoding\n",
    "tensor = tf.constant([1,2,3,4])"
   ]
  },
  {
   "cell_type": "code",
   "execution_count": 112,
   "id": "4c4d4e6b",
   "metadata": {},
   "outputs": [
    {
     "data": {
      "text/plain": [
       "<tf.Tensor: shape=(4, 4), dtype=float32, numpy=\n",
       "array([[0., 1., 0., 0.],\n",
       "       [0., 0., 1., 0.],\n",
       "       [0., 0., 0., 1.],\n",
       "       [0., 0., 0., 0.]], dtype=float32)>"
      ]
     },
     "execution_count": 112,
     "metadata": {},
     "output_type": "execute_result"
    }
   ],
   "source": [
    "tf.one_hot(tensor,depth=4,on_value=1.,off_value=0.)"
   ]
  },
  {
   "cell_type": "code",
   "execution_count": null,
   "id": "9ac1316d",
   "metadata": {},
   "outputs": [],
   "source": []
  },
  {
   "cell_type": "code",
   "execution_count": null,
   "id": "22e0c2ba",
   "metadata": {},
   "outputs": [],
   "source": []
  }
 ],
 "metadata": {
  "kernelspec": {
   "display_name": "Python 3 (ipykernel)",
   "language": "python",
   "name": "python3"
  },
  "language_info": {
   "codemirror_mode": {
    "name": "ipython",
    "version": 3
   },
   "file_extension": ".py",
   "mimetype": "text/x-python",
   "name": "python",
   "nbconvert_exporter": "python",
   "pygments_lexer": "ipython3",
   "version": "3.11.2"
  }
 },
 "nbformat": 4,
 "nbformat_minor": 5
}
